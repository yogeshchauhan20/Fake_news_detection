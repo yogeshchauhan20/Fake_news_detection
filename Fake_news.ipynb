{
  "nbformat": 4,
  "nbformat_minor": 0,
  "metadata": {
    "colab": {
      "provenance": [],
      "gpuType": "T4"
    },
    "kernelspec": {
      "name": "python3",
      "display_name": "Python 3"
    },
    "language_info": {
      "name": "python"
    },
    "accelerator": "GPU"
  },
  "cells": [
    {
      "cell_type": "code",
      "execution_count": 1,
      "metadata": {
        "colab": {
          "base_uri": "https://localhost:8080/"
        },
        "id": "guyDCTLXJSpZ",
        "outputId": "58acd34d-8afd-4159-9271-a3b522c1073f"
      },
      "outputs": [
        {
          "output_type": "stream",
          "name": "stderr",
          "text": [
            "[nltk_data] Downloading package punkt to /root/nltk_data...\n",
            "[nltk_data]   Unzipping tokenizers/punkt.zip.\n",
            "[nltk_data] Downloading package punkt_tab to /root/nltk_data...\n",
            "[nltk_data]   Unzipping tokenizers/punkt_tab.zip.\n",
            "[nltk_data] Downloading package stopwords to /root/nltk_data...\n",
            "[nltk_data]   Unzipping corpora/stopwords.zip.\n",
            "[nltk_data] Downloading package wordnet to /root/nltk_data...\n"
          ]
        },
        {
          "output_type": "execute_result",
          "data": {
            "text/plain": [
              "True"
            ]
          },
          "metadata": {},
          "execution_count": 1
        }
      ],
      "source": [
        "import pandas as pd\n",
        "import numpy as np\n",
        "import re\n",
        "import nltk\n",
        "from nltk.corpus import stopwords\n",
        "from nltk.tokenize import word_tokenize\n",
        "from nltk.stem import WordNetLemmatizer\n",
        "import re\n",
        "nltk.download('punkt', force=True)\n",
        "nltk.download('punkt_tab')\n",
        "nltk.download('stopwords')\n",
        "nltk.download('wordnet')"
      ]
    },
    {
      "cell_type": "code",
      "source": [
        "df_fake = pd.read_csv('Fake.csv')\n",
        "df_true = pd.read_csv('True.csv')\n",
        "df_fake['label'] = 0\n",
        "df_true['label'] = 1\n",
        "df = pd.concat([df_fake, df_true], axis=0)\n",
        "df = df[['text', 'label']].dropna().drop_duplicates()"
      ],
      "metadata": {
        "id": "e-o4BFXpLQoA"
      },
      "execution_count": 3,
      "outputs": []
    },
    {
      "cell_type": "code",
      "source": [
        "import nltk\n",
        "nltk.download('wordnet')\n",
        "lemmatizer = WordNetLemmatizer()\n",
        "stop_words = set(stopwords.words(\"english\"))"
      ],
      "metadata": {
        "colab": {
          "base_uri": "https://localhost:8080/"
        },
        "id": "P0yQ2nIcMg02",
        "outputId": "d0e420da-febe-4c48-b4e3-265c88ef7f30"
      },
      "execution_count": 4,
      "outputs": [
        {
          "output_type": "stream",
          "name": "stderr",
          "text": [
            "[nltk_data] Downloading package wordnet to /root/nltk_data...\n",
            "[nltk_data]   Package wordnet is already up-to-date!\n"
          ]
        }
      ]
    },
    {
      "cell_type": "code",
      "source": [
        "import nltk\n",
        "from nltk.corpus import wordnet\n",
        "def clean_text(text):\n",
        "    text = re.sub(r'[^\\w\\s]', '', text.lower())  # Remove punctuation and lowercase\n",
        "    tokens = word_tokenize(text)\n",
        "    tokens = [lemmatizer.lemmatize(word) for word in tokens if word not in stop_words]\n",
        "    return \" \".join(tokens)"
      ],
      "metadata": {
        "id": "FSYKFXl8Nw9D"
      },
      "execution_count": 5,
      "outputs": []
    },
    {
      "cell_type": "code",
      "source": [
        "df['clean_text'] = df['text'].apply(clean_text)"
      ],
      "metadata": {
        "id": "QZBoQ3HnOy1y"
      },
      "execution_count": 6,
      "outputs": []
    },
    {
      "cell_type": "code",
      "source": [
        "from sklearn.model_selection import train_test_split\n",
        "from sklearn.metrics import accuracy_score, classification_report\n",
        "from sklearn.linear_model import LogisticRegression\n",
        "from sklearn.naive_bayes import MultinomialNB\n",
        "from sklearn.ensemble import RandomForestClassifier\n",
        "from xgboost import XGBClassifier"
      ],
      "metadata": {
        "id": "_kaVq01Wd0jq"
      },
      "execution_count": 8,
      "outputs": []
    },
    {
      "cell_type": "code",
      "source": [
        "X_train_text, X_test_text, y_train, y_test = train_test_split(df['clean_text'], df['label'], test_size=0.2, random_state=42, stratify=df['label'])"
      ],
      "metadata": {
        "id": "oIvTfRtMdHVS"
      },
      "execution_count": 9,
      "outputs": []
    },
    {
      "cell_type": "code",
      "source": [
        "models = {\n",
        "    \"Logistic Regression\": LogisticRegression(class_weight='balanced', max_iter=1000, solver='liblinear', C=0.5),\n",
        "    \"Naive Bayes\": MultinomialNB(),\n",
        "    \"Random Forest\": RandomForestClassifier(n_estimators=100, class_weight='balanced'),\n",
        "    \"XGBoost\": XGBClassifier(eval_metric='logloss', scale_pos_weight=17500/21000)\n",
        "}"
      ],
      "metadata": {
        "id": "jXabp1Dbdq9a"
      },
      "execution_count": 10,
      "outputs": []
    },
    {
      "cell_type": "code",
      "source": [
        "from sentence_transformers import SentenceTransformer\n",
        "\n",
        "model_sbert = SentenceTransformer('all-MiniLM-L6-v2')\n",
        "X_train_embed = model_sbert.encode(X_train_text.tolist(), convert_to_tensor=True).cpu().numpy()\n",
        "X_test_embed = model_sbert.encode(X_test_text.tolist(), convert_to_tensor=True).cpu().numpy()"
      ],
      "metadata": {
        "colab": {
          "base_uri": "https://localhost:8080/"
        },
        "id": "k4dgKpe4d-Ka",
        "outputId": "02b053db-27de-428e-9cb6-0c67693f1df2"
      },
      "execution_count": 13,
      "outputs": [
        {
          "output_type": "stream",
          "name": "stderr",
          "text": [
            "/usr/local/lib/python3.11/dist-packages/torch/nn/modules/module.py:1750: FutureWarning: `encoder_attention_mask` is deprecated and will be removed in version 4.55.0 for `BertSdpaSelfAttention.forward`.\n",
            "  return forward_call(*args, **kwargs)\n"
          ]
        }
      ]
    },
    {
      "cell_type": "code",
      "source": [
        "clf = LogisticRegression(class_weight='balanced', max_iter=500)\n",
        "clf.fit(X_train_embed, y_train)\n",
        "y_pred = clf.predict(X_test_embed)\n",
        "print(classification_report(y_test, y_pred))"
      ],
      "metadata": {
        "colab": {
          "base_uri": "https://localhost:8080/"
        },
        "id": "hypyhFQ_eIAw",
        "outputId": "bbdfe9a5-d385-47a5-abe5-136c38c1b62e"
      },
      "execution_count": 14,
      "outputs": [
        {
          "output_type": "stream",
          "name": "stdout",
          "text": [
            "              precision    recall  f1-score   support\n",
            "\n",
            "           0       0.96      0.95      0.96      3491\n",
            "           1       0.96      0.97      0.96      4239\n",
            "\n",
            "    accuracy                           0.96      7730\n",
            "   macro avg       0.96      0.96      0.96      7730\n",
            "weighted avg       0.96      0.96      0.96      7730\n",
            "\n"
          ]
        }
      ]
    },
    {
      "cell_type": "code",
      "source": [
        "from sklearn.metrics import classification_report, confusion_matrix, accuracy_score\n",
        "import seaborn as sns\n",
        "import matplotlib.pyplot as plt\n",
        "y_pred = clf.predict(X_test_embed)\n",
        "print(\"Accuracy:\", accuracy_score(y_test, y_pred))\n",
        "print(\"\\nClassification Report:\\n\", classification_report(y_test, y_pred))\n",
        "cm = confusion_matrix(y_test, y_pred)\n",
        "sns.heatmap(cm, annot=True, fmt='d', cmap='Blues', xticklabels=['Fake', 'Real'], yticklabels=['Fake', 'Real'])\n",
        "plt.xlabel('Predicted')\n",
        "plt.ylabel('Actual')\n",
        "plt.title('Confusion Matrix')\n",
        "plt.show()\n"
      ],
      "metadata": {
        "colab": {
          "base_uri": "https://localhost:8080/",
          "height": 680
        },
        "id": "XDp75tA5eons",
        "outputId": "593f2745-8b91-4273-ccc0-1d03f9e2b69f"
      },
      "execution_count": 15,
      "outputs": [
        {
          "output_type": "stream",
          "name": "stdout",
          "text": [
            "Accuracy: 0.9597671410090556\n",
            "\n",
            "Classification Report:\n",
            "               precision    recall  f1-score   support\n",
            "\n",
            "           0       0.96      0.95      0.96      3491\n",
            "           1       0.96      0.97      0.96      4239\n",
            "\n",
            "    accuracy                           0.96      7730\n",
            "   macro avg       0.96      0.96      0.96      7730\n",
            "weighted avg       0.96      0.96      0.96      7730\n",
            "\n"
          ]
        },
        {
          "output_type": "display_data",
          "data": {
            "text/plain": [
              "<Figure size 640x480 with 2 Axes>"
            ],
            "image/png": "[encoded data removed]"
          },
          "metadata": {}
        }
      ]
    },
    {
      "cell_type": "code",
      "source": [
        "def predict_news(text):\n",
        "    # Clean the input text exactly like your training data\n",
        "    cleaned = clean_text(text)\n",
        "\n",
        "    # Get BERT embedding\n",
        "    embedded = model_sbert.encode([cleaned])\n",
        "\n",
        "    # Predict\n",
        "    pred = clf.predict(embedded)[0]\n",
        "    proba = clf.predict_proba(embedded)[0]\n",
        "\n",
        "    label = \"Real\" if pred == 1 else \"Fake\"\n",
        "    print(f\"Prediction: {label}\")\n",
        "    print(f\"Confidence: Fake: {proba[0]*100:.2f}%, Real: {proba[1]*100:.2f}%\")\n",
        "\n",
        "# Example usage\n",
        "sample_text = \"The government has announced a new healthcare policy that will be rolled out in phases across the country.\"\n",
        "predict_news(sample_text)\n"
      ],
      "metadata": {
        "colab": {
          "base_uri": "https://localhost:8080/"
        },
        "id": "HPfkIOFtf17I",
        "outputId": "29a89edd-d2ab-4285-906c-c4f22dffcb76"
      },
      "execution_count": 16,
      "outputs": [
        {
          "output_type": "stream",
          "name": "stdout",
          "text": [
            "Prediction: Real\n",
            "Confidence: Fake: 2.62%, Real: 97.38%\n"
          ]
        },
        {
          "output_type": "stream",
          "name": "stderr",
          "text": [
            "/usr/local/lib/python3.11/dist-packages/torch/nn/modules/module.py:1750: FutureWarning: `encoder_attention_mask` is deprecated and will be removed in version 4.55.0 for `BertSdpaSelfAttention.forward`.\n",
            "  return forward_call(*args, **kwargs)\n"
          ]
        }
      ]
    },
    {
      "cell_type": "code",
      "source": [
        "# Sample real and fake news examples\n",
        "test_samples = {\n",
        "    \"Real News 1\": \"The World Health Organization declared the end of the COVID-19 global health emergency on May 5th.\",\n",
        "    \"Real News 2\": \"The Supreme Court ruled on Monday that states cannot ban same-sex marriage, expanding equal rights nationwide.\",\n",
        "    \"Real News 3\": \"NASA's Artemis I mission successfully completed its lunar orbit and returned safely to Earth this weekend.\",\n",
        "    \"Fake News 1\": \"Bill Gates has been arrested for creating a chip in vaccines to control the population.\",\n",
        "    \"Fake News 2\": \"Scientists discover that the moon is hollow and houses secret alien bases.\",\n",
        "    \"Fake News 3\": \"The government is replacing currency with invisible crypto chips implanted in citizens' hands.\",\n",
        "}\n",
        "\n",
        "# Run predictions on all samples\n",
        "for title, text in test_samples.items():\n",
        "    print(f\"\\n📰 {title}\")\n",
        "    predict_news(text)\n"
      ],
      "metadata": {
        "colab": {
          "base_uri": "https://localhost:8080/"
        },
        "id": "GDZlvczEf8hj",
        "outputId": "f07349a9-9f6d-49b0-8be0-0c05d3803b41"
      },
      "execution_count": 17,
      "outputs": [
        {
          "output_type": "stream",
          "name": "stdout",
          "text": [
            "\n",
            "📰 Real News 1\n",
            "Prediction: Real\n",
            "Confidence: Fake: 3.18%, Real: 96.82%\n",
            "\n",
            "📰 Real News 2\n",
            "Prediction: Real\n",
            "Confidence: Fake: 36.57%, Real: 63.43%\n",
            "\n",
            "📰 Real News 3\n",
            "Prediction: Real\n",
            "Confidence: Fake: 3.81%, Real: 96.19%\n",
            "\n",
            "📰 Fake News 1\n",
            "Prediction: Real\n",
            "Confidence: Fake: 44.26%, Real: 55.74%\n",
            "\n",
            "📰 Fake News 2\n",
            "Prediction: Fake\n",
            "Confidence: Fake: 59.27%, Real: 40.73%\n",
            "\n",
            "📰 Fake News 3\n",
            "Prediction: Fake\n",
            "Confidence: Fake: 92.19%, Real: 7.81%\n"
          ]
        },
        {
          "output_type": "stream",
          "name": "stderr",
          "text": [
            "/usr/local/lib/python3.11/dist-packages/torch/nn/modules/module.py:1750: FutureWarning: `encoder_attention_mask` is deprecated and will be removed in version 4.55.0 for `BertSdpaSelfAttention.forward`.\n",
            "  return forward_call(*args, **kwargs)\n",
            "/usr/local/lib/python3.11/dist-packages/torch/nn/modules/module.py:1750: FutureWarning: `encoder_attention_mask` is deprecated and will be removed in version 4.55.0 for `BertSdpaSelfAttention.forward`.\n",
            "  return forward_call(*args, **kwargs)\n",
            "/usr/local/lib/python3.11/dist-packages/torch/nn/modules/module.py:1750: FutureWarning: `encoder_attention_mask` is deprecated and will be removed in version 4.55.0 for `BertSdpaSelfAttention.forward`.\n",
            "  return forward_call(*args, **kwargs)\n",
            "/usr/local/lib/python3.11/dist-packages/torch/nn/modules/module.py:1750: FutureWarning: `encoder_attention_mask` is deprecated and will be removed in version 4.55.0 for `BertSdpaSelfAttention.forward`.\n",
            "  return forward_call(*args, **kwargs)\n",
            "/usr/local/lib/python3.11/dist-packages/torch/nn/modules/module.py:1750: FutureWarning: `encoder_attention_mask` is deprecated and will be removed in version 4.55.0 for `BertSdpaSelfAttention.forward`.\n",
            "  return forward_call(*args, **kwargs)\n",
            "/usr/local/lib/python3.11/dist-packages/torch/nn/modules/module.py:1750: FutureWarning: `encoder_attention_mask` is deprecated and will be removed in version 4.55.0 for `BertSdpaSelfAttention.forward`.\n",
            "  return forward_call(*args, **kwargs)\n"
          ]
        }
      ]
    },
    {
      "cell_type": "code",
      "source": [
        "import joblib\n",
        "joblib.dump(clf, 'bert_fake_news_model.pkl')\n"
      ],
      "metadata": {
        "colab": {
          "base_uri": "https://localhost:8080/"
        },
        "id": "z7cw7JZpgVUI",
        "outputId": "124d2935-5e90-42e9-d280-b78d8f4f3f27"
      },
      "execution_count": 18,
      "outputs": [
        {
          "output_type": "execute_result",
          "data": {
            "text/plain": [
              "['bert_fake_news_model.pkl']"
            ]
          },
          "metadata": {},
          "execution_count": 18
        }
      ]
    },
    {
      "cell_type": "code",
      "source": [],
      "metadata": {
        "id": "HvjqAYy0gfcq"
      },
      "execution_count": null,
      "outputs": []
    }
  ]
}